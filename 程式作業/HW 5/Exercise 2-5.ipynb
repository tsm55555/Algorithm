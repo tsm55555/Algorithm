{
 "cells": [
  {
   "cell_type": "code",
   "execution_count": 3,
   "id": "15ed8236-f708-4b11-8b6a-1f863be4bb8f",
   "metadata": {},
   "outputs": [
    {
     "name": "stdout",
     "output_type": "stream",
     "text": [
      "     ┌───────────────────────────────────────────────┐┌─┐\n",
      "  q: ┤ Initialize(0.33333+0.66667j,0.57735+0.33333j) ├┤M├\n",
      "     └───────────────────────────────────────────────┘└╥┘\n",
      "c: 1/══════════════════════════════════════════════════╩═\n",
      "                                                       0 \n"
     ]
    }
   ],
   "source": [
    "# Exercise 2.5\n",
    "from qiskit import QuantumCircuit,execute\n",
    "import math\n",
    "qc = QuantumCircuit(1,1) \n",
    "qc.initialize([1/3 + 2j/3, math.sqrt(3)/3 + 1j/3],0)\n",
    "qc.measure([0], [0])\n",
    "print(qc)"
   ]
  },
  {
   "cell_type": "code",
   "execution_count": 4,
   "id": "beebac03-55f2-4f5f-ad25-158bfa0bb66e",
   "metadata": {},
   "outputs": [
    {
     "name": "stderr",
     "output_type": "stream",
     "text": [
      "configrc.store_credentials:WARNING:2022-04-11 13:32:54,519: Credentials already present. Set overwrite=True to overwrite.\n",
      "<frozen importlib._bootstrap>:219: RuntimeWarning: scipy._lib.messagestream.MessageStream size changed, may indicate binary incompatibility. Expected 56 from C header, got 64 from PyObject\n"
     ]
    },
    {
     "name": "stdout",
     "output_type": "stream",
     "text": [
      "Job Status: job has successfully run\n",
      "Total counts for qubit states are : {'0': 570, '1': 430}\n"
     ]
    },
    {
     "data": {
      "image/png": "[encoded data removed]",
      "text/plain": [
       "<Figure size 504x360 with 1 Axes>"
      ]
     },
     "execution_count": 4,
     "metadata": {},
     "output_type": "execute_result"
    }
   ],
   "source": [
    "from qiskit import QuantumCircuit, IBMQ, execute\n",
    "from qiskit.tools.monitor import job_monitor\n",
    "from qiskit.visualization import plot_histogram\n",
    "IBMQ.save_account('17feb1dd05973ab36b538b68f65aa4318e35b723df6b6808f5cf1855462077ef3038bec298506c907ed095809304175560f9a0ac6b260257d8bb8fdfd95d8053')\n",
    "IBMQ.load_account()\n",
    "provider=IBMQ.get_provider('ibm-q')\n",
    "qcomp=provider.get_backend('ibmq_manila')\n",
    "job=execute(qc, backend=qcomp, shots=1000)\n",
    "job_monitor(job)\n",
    "result = job.result()\n",
    "counts = result.get_counts(qc)\n",
    "print(\"Total counts for qubit states are :\",counts)\n",
    "plot_histogram(counts)"
   ]
  },
  {
   "cell_type": "code",
   "execution_count": null,
   "id": "f7864cf0-c439-426e-b0fd-8599d65db841",
   "metadata": {},
   "outputs": [],
   "source": []
  }
 ],
 "metadata": {
  "kernelspec": {
   "display_name": "Qiskit v0.35.0 (ipykernel)",
   "language": "python",
   "name": "python3"
  },
  "language_info": {
   "codemirror_mode": {
    "name": "ipython",
    "version": 3
   },
   "file_extension": ".py",
   "mimetype": "text/x-python",
   "name": "python",
   "nbconvert_exporter": "python",
   "pygments_lexer": "ipython3",
   "version": "3.8.13"
  },
  "widgets": {
   "application/vnd.jupyter.widget-state+json": {
    "state": {},
    "version_major": 2,
    "version_minor": 0
   }
  }
 },
 "nbformat": 4,
 "nbformat_minor": 5
}
