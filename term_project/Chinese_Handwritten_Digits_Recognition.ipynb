{
  "nbformat": 4,
  "nbformat_minor": 0,
  "metadata": {
    "colab": {
      "name": "Chinese Handwritten Digits Recognition.ipynb",
      "provenance": [],
      "collapsed_sections": []
    },
    "kernelspec": {
      "name": "python3",
      "display_name": "Python 3"
    },
    "language_info": {
      "name": "python"
    },
    "accelerator": "GPU"
  },
  "cells": [
    {
      "cell_type": "code",
      "execution_count": null,
      "metadata": {
        "id": "LCvv8jSqxcTR"
      },
      "outputs": [],
      "source": [
        "import os\n",
        "import keras\n",
        "import cv2\n",
        "import numpy as np\n",
        "from PIL import Image\n",
        "from keras.models import Sequential\n",
        "from keras.layers.core import Dense, Dropout, Activation, Flatten\n",
        "from tensorflow.keras.layers import BatchNormalization\n",
        "from tensorflow.keras.optimizers import RMSprop\n",
        "from keras.callbacks import EarlyStopping, CSVLogger\n",
        "from keras.layers import Conv2D, MaxPooling2D, ZeroPadding2D, GlobalAveragePooling2D\n",
        "from keras.preprocessing.image import ImageDataGenerator\n",
        "import matplotlib.pyplot as plt\n",
        "from keras.utils import np_utils\n"
      ]
    },
    {
      "cell_type": "code",
      "source": [
        "# if you use colab\n",
        "!unzip /content/handwrite__detect.zip"
      ],
      "metadata": {
        "id": "c8h402TmMz4v"
      },
      "execution_count": null,
      "outputs": []
    },
    {
      "cell_type": "code",
      "source": [
        "def prepare_data(image_path):\n",
        "  num_image = 0\n",
        "  data_label = []\n",
        "  images = []\n",
        "  for root, dirs, files in os.walk(image_path):\n",
        "    # print(\"root: \", root)\n",
        "    # print(\"dirs: \", dirs)\n",
        "    # print(\"files:\" ,files)\n",
        "    for file in files:\n",
        "      num_image +=1\n",
        "      # print(\"file: \", file)\n",
        "      # print()\n",
        "      image_path = os.path.join(root, file) # get image's path\n",
        "      # img = Image.open(image_path)\n",
        "      # img = np.array(img).reshape(1, 28, 28)\n",
        "      img = cv2.imread(image_path, cv2.IMREAD_GRAYSCALE)\n",
        "      # img = cv2.resize(img, (28,28))\n",
        "      images.append(img)\n",
        "      label = os.path.basename(os.path.normpath(root)) # get the basename of root(label)\n",
        "      data_label.append(label) # append label\n",
        "    # print(\"current_data_label\", data_label) \n",
        "  images = np.array(images)\n",
        "  print(\"image shape: \", images.shape)\n",
        "  print(\"num of labels: \", len(data_label))\n",
        "  return images, data_label "
      ],
      "metadata": {
        "id": "LusvjzALM5Nk"
      },
      "execution_count": null,
      "outputs": []
    },
    {
      "cell_type": "code",
      "source": [
        "# load data\n",
        "# prepare_data(\"/content/train_image\")\n",
        "x_train, y_train = prepare_data(\"/content/train_image\")\n",
        "x_test, y_test = prepare_data(\"/content/test_image\")"
      ],
      "metadata": {
        "colab": {
          "base_uri": "https://localhost:8080/"
        },
        "id": "3HZoMN25PaQ1",
        "outputId": "28b642c2-d4df-4703-a740-d3fbed36f910"
      },
      "execution_count": null,
      "outputs": [
        {
          "output_type": "stream",
          "name": "stdout",
          "text": [
            "image shape:  (2450, 28, 28)\n",
            "num of labels:  2450\n",
            "image shape:  (1700, 28, 28)\n",
            "num of labels:  1700\n"
          ]
        }
      ]
    },
    {
      "cell_type": "code",
      "source": [
        "# show image\n",
        "plt.figure(figsize=(5, 5))\n",
        "for i in range(9):\n",
        "  ax = plt.subplot(3, 3, i + 1)\n",
        "  plt.imshow(x_train[i], cmap='gray')\n",
        "  plt.axis(\"off\")"
      ],
      "metadata": {
        "id": "BlMmfUTQxeWi"
      },
      "execution_count": null,
      "outputs": []
    },
    {
      "cell_type": "code",
      "source": [
        "# hyperparameters\n",
        "batch_size = 128\n",
        "num_classes = 10\n",
        "epochs = 800"
      ],
      "metadata": {
        "id": "1M8gM3Wwxdo6"
      },
      "execution_count": null,
      "outputs": []
    },
    {
      "cell_type": "code",
      "source": [
        "# normalize images\n",
        "x_train = x_train.reshape(2450, 28, 28, 1).astype('float32')\n",
        "x_test = x_test.reshape(1700, 28, 28, 1).astype('float32')\n",
        "x_train /= 255\n",
        "x_test /= 255\n",
        "y_train = keras.utils.np_utils.to_categorical(y_train, num_classes) # one hot encoding\n",
        "y_test = keras.utils.np_utils.to_categorical(y_test, num_classes) # one hot encoding"
      ],
      "metadata": {
        "id": "qFR7kDqKxeZh"
      },
      "execution_count": null,
      "outputs": []
    },
    {
      "cell_type": "code",
      "source": [
        "# show data's shape\n",
        "print(x_train.shape)\n",
        "print(y_train.shape)\n",
        "print(x_test.shape)\n",
        "print(y_test.shape)"
      ],
      "metadata": {
        "colab": {
          "base_uri": "https://localhost:8080/"
        },
        "id": "94WXHw2jx0Xk",
        "outputId": "e74bc580-1d12-4812-89d4-faf2634aaf7d"
      },
      "execution_count": null,
      "outputs": [
        {
          "output_type": "stream",
          "name": "stdout",
          "text": [
            "(2450, 28, 28, 1)\n",
            "(2450, 10)\n",
            "(1700, 28, 28, 1)\n",
            "(1700, 10)\n"
          ]
        }
      ]
    },
    {
      "cell_type": "code",
      "source": [
        "# define model\n",
        "model = Sequential()\n",
        "model.add(Conv2D(32, (3, 3), input_shape=(28, 28, 1))) # add Conv layer\n",
        "model.add(Activation('relu'))\n",
        "model.add(Dropout(0.3))\n",
        "model.add(MaxPooling2D(pool_size=(2, 2))) # pooling layer improve accuracy significantly\n",
        "\n",
        "model.add(Conv2D(32, (3, 3))) # add Conv layer\n",
        "model.add(Activation('relu'))\n",
        "model.add(Dropout(0.3))\n",
        "model.add(Conv2D(64, (3, 3))) # add Conv layer\n",
        "model.add(Activation('relu'))\n",
        "model.add(Dropout(0.3))\n",
        "model.add(MaxPooling2D(pool_size=(2, 2))) # pooling layer improve accuracy significantly\n",
        "\n",
        "model.add(Flatten()) \n",
        "\n",
        "model.add(Dense(128)) # add fully connected layer\n",
        "model.add(Activation('relu'))\n",
        "model.add(Dropout(0.5))\n",
        "\n",
        "model.add(Dense(10))\n",
        "model.add(Activation('softmax'))\n",
        "\n",
        "# output model summary\n",
        "# model.summary()"
      ],
      "metadata": {
        "id": "HeBAHWo9yC3V"
      },
      "execution_count": null,
      "outputs": []
    },
    {
      "cell_type": "code",
      "source": [
        "# compile\n",
        "model.compile(loss='categorical_crossentropy',\n",
        "       optimizer=\"adam\",\n",
        "       metrics=['accuracy'])\n",
        "# es = EarlyStopping(monitor='val_loss', patience=10)\n",
        "\n",
        "# start training \n",
        "hist = model.fit(x_train, y_train,\n",
        "          batch_size = batch_size,\n",
        "          epochs = epochs,\n",
        "          verbose = 1,\n",
        "          validation_split = 0.1,\n",
        "          )"
      ],
      "metadata": {
        "id": "OYn43GunyhI7"
      },
      "execution_count": null,
      "outputs": []
    },
    {
      "cell_type": "code",
      "source": [
        "# show training set accuracy\n",
        "score = model.evaluate(x_train, y_train, verbose=0)\n",
        "print('train loss:', score[0])\n",
        "print('train acc:', score[1])\n",
        "\n",
        "# show testing set accuracy\n",
        "score = model.evaluate(x_test, y_test, verbose=0)\n",
        "print('test loss:', score[0])\n",
        "print('test acc:', score[1])\n",
        "\n",
        "# plot loss figure\n",
        "loss = hist.history['loss']\n",
        "val_loss = hist.history['val_loss']\n",
        "epochs = len(loss)\n",
        "plt.plot(range(epochs), loss, marker='.', label='loss(training data)')\n",
        "plt.plot(range(epochs), val_loss, marker='.', label='val_loss(evaluation data)')\n",
        "plt.legend(loc='best')\n",
        "plt.grid()\n",
        "plt.xlabel('epoch')\n",
        "plt.ylabel('loss')\n",
        "plt.show()"
      ],
      "metadata": {
        "colab": {
          "base_uri": "https://localhost:8080/",
          "height": 348
        },
        "id": "f_imAitSy2Vd",
        "outputId": "f2fa9227-6aa4-4eda-8ad7-74c48c39c1e8"
      },
      "execution_count": null,
      "outputs": [
        {
          "output_type": "stream",
          "name": "stdout",
          "text": [
            "train loss: 0.000494485255330801\n",
            "train acc: 1.0\n",
            "test loss: 0.10287109017372131\n",
            "test acc: 0.9858823418617249\n"
          ]
        },
        {
          "output_type": "display_data",
          "data": {
            "text/plain": [
              "<Figure size 432x288 with 1 Axes>"
            ],
            "image/png": "[encoded data removed]"
          },
          "metadata": {
            "needs_background": "light"
          }
        }
      ]
    },
    {
      "cell_type": "markdown",
      "source": [
        "### Experiment notes\n",
        "#### 100 epochs\n",
        "- train loss: 0.0032357831951230764\n",
        "- train acc: 0.9983673691749573\n",
        "- test loss: 0.06635178625583649\n",
        "- test acc: 0.9805882573127747\n",
        "\n",
        "#### 200 epochs\n",
        "- train loss: 0.001693558064289391\n",
        "- train acc: 0.9995918273925781\n",
        "- test loss: 0.07428544759750366\n",
        "- test acc: 0.9835293889045715\n",
        "\n",
        "#### 400 epochs\n",
        "- train loss: 0.0025502017233520746\n",
        "- train acc: 0.9995918273925781\n",
        "- test loss: 0.08488412946462631\n",
        "- test acc: 0.9835293889045715\n",
        "\n",
        "#### 600 epochs\n",
        "- train loss: 0.003987448755651712\n",
        "- train acc: 0.9991836547851562\n",
        "- test loss: 0.13777583837509155\n",
        "- test acc: 0.9805882573127747\n",
        "\n",
        "#### 800 epochs\n",
        "- train loss: 0.000494485255330801\n",
        "- train acc: 1.0\n",
        "- test loss: 0.10287109017372131\n",
        "- test acc: 0.9858823418617249"
      ],
      "metadata": {
        "id": "PMj1BXcLOx_r"
      }
    },
    {
      "cell_type": "markdown",
      "source": [
        "## References\n",
        "\n",
        "https://staff.csie.ncu.edu.tw/jrjiang/alg2022/\n",
        "\n",
        "https://www.w3schools.com/python/matplotlib_subplot.asp\n",
        "\n",
        "https://docs.python.org/3/library/os.path.html#module-os.path\n",
        "\n",
        "https://www.tutorialspoint.com/python/os_walk.htm\n",
        "\n",
        "https://www.geeksforgeeks.org/convert-python-list-to-numpy-arrays/\n",
        "\n",
        "https://stackoverflow.com/questions/3823752/.display-image-as-grayscale-using-matplotlib\n",
        "\n",
        "https://keras.io/api/losses/\n",
        "\n",
        "https://datascience.stackexchange.com/questions/44124/when-to-use-dense-conv1-2d-dropout-flatten-and-all-the-other-layers\n",
        "\n",
        "https://www.tensorflow.org/api_docs/python/tf/keras/preprocessing/image/ImageDataGenerator\n",
        "\n",
        "https://www.geeksforgeeks.org/change-the-legend-position-in-matplotlib/\n",
        "\n",
        "https://keras.io/api/layers/pooling_layers/max_pooling2d/\n",
        "\n",
        "https://stackoverflow.com/questions/46516270/maxpooling-layer-causes-error-in-keras"
      ],
      "metadata": {
        "id": "ucvAlYq3bKhN"
      }
    }
  ]
}